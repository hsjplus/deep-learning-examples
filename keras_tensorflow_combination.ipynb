{
  "nbformat": 4,
  "nbformat_minor": 0,
  "metadata": {
    "colab": {
      "name": "keras_tensorflow_combination.ipynb",
      "version": "0.3.2",
      "provenance": [],
      "collapsed_sections": []
    },
    "kernelspec": {
      "name": "python3",
      "display_name": "Python 3"
    },
    "accelerator": "GPU"
  },
  "cells": [
    {
      "cell_type": "code",
      "metadata": {
        "id": "pA848j0VvUWz",
        "colab_type": "code",
        "outputId": "e950b174-2c0d-4b79-cf70-e302f5eb6f4f",
        "colab": {
          "base_uri": "https://localhost:8080/",
          "height": 35
        }
      },
      "source": [
        "'''\n",
        "MIT License\n",
        "\n",
        "Copyright (c) 2019 hsjplus\n",
        "\n",
        "Permission is hereby granted, free of charge, to any person obtaining a copy\n",
        "of this software and associated documentation files (the \"Software\"), to deal\n",
        "in the Software without restriction, including without limitation the rights\n",
        "to use, copy, modify, merge, publish, distribute, sublicense, and/or sell\n",
        "copies of the Software, and to permit persons to whom the Software is\n",
        "furnished to do so, subject to the following conditions:\n",
        "\n",
        "The above copyright notice and this permission notice shall be included in all\n",
        "copies or substantial portions of the Software.\n",
        "\n",
        "THE SOFTWARE IS PROVIDED \"AS IS\", WITHOUT WARRANTY OF ANY KIND, EXPRESS OR\n",
        "IMPLIED, INCLUDING BUT NOT LIMITED TO THE WARRANTIES OF MERCHANTABILITY,\n",
        "FITNESS FOR A PARTICULAR PURPOSE AND NONINFRINGEMENT. IN NO EVENT SHALL THE\n",
        "AUTHORS OR COPYRIGHT HOLDERS BE LIABLE FOR ANY CLAIM, DAMAGES OR OTHER\n",
        "LIABILITY, WHETHER IN AN ACTION OF CONTRACT, TORT OR OTHERWISE, ARISING FROM,\n",
        "OUT OF OR IN CONNECTION WITH THE SOFTWARE OR THE USE OR OTHER DEALINGS IN THE\n",
        "SOFTWARE.\n",
        "'''\n",
        "\n",
        "from keras.layers import Input, Dense, Flatten\n",
        "from keras.datasets.mnist import load_data\n",
        "from keras.layers.convolutional import Conv2D, MaxPooling2D\n",
        "\n",
        "import tensorflow as tf\n",
        "from random import shuffle\n",
        "import numpy as np"
      ],
      "execution_count": 1,
      "outputs": [
        {
          "output_type": "stream",
          "text": [
            "Using TensorFlow backend.\n"
          ],
          "name": "stderr"
        }
      ]
    },
    {
      "cell_type": "code",
      "metadata": {
        "id": "16wA-QSGEN-x",
        "colab_type": "code",
        "colab": {
          "base_uri": "https://localhost:8080/",
          "height": 53
        },
        "outputId": "f0fa69bb-eb71-4643-ac16-aa559b02fe96"
      },
      "source": [
        "# load data\n",
        "data = load_data(path='mnist.npz')\n",
        "\n",
        "X_train = data[0][0] # (60000, 28, 28)\n",
        "X_train = np.reshape(X_train, [-1, 28, 28, 1])\n",
        "y_train = data[0][1] # (60000, )\n",
        "X_test = data[1][0] # (10000, 28, 28)\n",
        "X_test = np.reshape(X_test, [-1, 28, 28, 1])\n",
        "y_test = data[1][1] # (10000, )"
      ],
      "execution_count": 2,
      "outputs": [
        {
          "output_type": "stream",
          "text": [
            "Downloading data from https://s3.amazonaws.com/img-datasets/mnist.npz\n",
            "11493376/11490434 [==============================] - 1s 0us/step\n"
          ],
          "name": "stdout"
        }
      ]
    },
    {
      "cell_type": "code",
      "metadata": {
        "id": "ornxqg2QvcTi",
        "colab_type": "code",
        "outputId": "3c49b384-384f-4780-a934-2c3704d552b9",
        "colab": {
          "base_uri": "https://localhost:8080/",
          "height": 200
        }
      },
      "source": [
        "# model - keras codes\n",
        "x = Input(shape=(28, 28, 1))\n",
        "conv2d_1 = Conv2D(filters=32, kernel_size=[3, 3])(x)\n",
        "conv2d_2 = Conv2D(filters=32, kernel_size=[3, 3])(conv2d_1)\n",
        "pool = MaxPooling2D(pool_size=[2,2], strides=[2, 2])(conv2d_2)\n",
        "\n",
        "flatten = Flatten()(pool)\n",
        "output = Dense(10)(flatten)"
      ],
      "execution_count": 3,
      "outputs": [
        {
          "output_type": "stream",
          "text": [
            "WARNING: Logging before flag parsing goes to stderr.\n",
            "W0620 01:04:00.056898 140290782128000 deprecation_wrapper.py:119] From /usr/local/lib/python3.6/dist-packages/keras/backend/tensorflow_backend.py:74: The name tf.get_default_graph is deprecated. Please use tf.compat.v1.get_default_graph instead.\n",
            "\n",
            "W0620 01:04:00.095274 140290782128000 deprecation_wrapper.py:119] From /usr/local/lib/python3.6/dist-packages/keras/backend/tensorflow_backend.py:517: The name tf.placeholder is deprecated. Please use tf.compat.v1.placeholder instead.\n",
            "\n",
            "W0620 01:04:00.102996 140290782128000 deprecation_wrapper.py:119] From /usr/local/lib/python3.6/dist-packages/keras/backend/tensorflow_backend.py:4138: The name tf.random_uniform is deprecated. Please use tf.random.uniform instead.\n",
            "\n",
            "W0620 01:04:00.143348 140290782128000 deprecation_wrapper.py:119] From /usr/local/lib/python3.6/dist-packages/keras/backend/tensorflow_backend.py:3976: The name tf.nn.max_pool is deprecated. Please use tf.nn.max_pool2d instead.\n",
            "\n"
          ],
          "name": "stderr"
        }
      ]
    },
    {
      "cell_type": "code",
      "metadata": {
        "id": "mw0NiU_IUIKW",
        "colab_type": "code",
        "outputId": "12533cfb-a228-4539-9913-382236aff808",
        "colab": {
          "base_uri": "https://localhost:8080/",
          "height": 53
        }
      },
      "source": [
        "# output : tensor type\n",
        "print(type(x))\n",
        "print(type(output))"
      ],
      "execution_count": 4,
      "outputs": [
        {
          "output_type": "stream",
          "text": [
            "<class 'tensorflow.python.framework.ops.Tensor'>\n",
            "<class 'tensorflow.python.framework.ops.Tensor'>\n"
          ],
          "name": "stdout"
        }
      ]
    },
    {
      "cell_type": "code",
      "metadata": {
        "id": "TxjmWoc73LOO",
        "colab_type": "code",
        "colab": {}
      },
      "source": [
        "# model - tensorflow codes \n",
        "y = tf.placeholder(dtype=tf.int32, shape=[None])\n",
        "# output is from keras output\n",
        "loss = tf.reduce_mean(tf.nn.sparse_softmax_cross_entropy_with_logits(logits=output, labels=y))\n",
        "optimizer = tf.train.AdamOptimizer().minimize(loss)\n",
        "\n",
        "# evaluation\n",
        "prediction = tf.argmax(output, axis=-1, output_type=tf.int32)\n",
        "accuracy = tf.reduce_mean(tf.cast(tf.equal(x=prediction, y=y), dtype=tf.float32))"
      ],
      "execution_count": 0,
      "outputs": []
    },
    {
      "cell_type": "code",
      "metadata": {
        "id": "K0dIYHc51tK5",
        "colab_type": "code",
        "colab": {}
      },
      "source": [
        "epoch = 5\n",
        "batch_size = 256\n",
        "idx_list = [i for i in range(len(X_train))]\n",
        "\n",
        "sess = tf.Session()\n",
        "init = tf.global_variables_initializer()\n",
        "sess.run(init)"
      ],
      "execution_count": 0,
      "outputs": []
    },
    {
      "cell_type": "code",
      "metadata": {
        "id": "CqHvhaVk4YZu",
        "colab_type": "code",
        "outputId": "953523dd-b686-4765-9150-173d44cefc43",
        "colab": {
          "base_uri": "https://localhost:8080/",
          "height": 108
        }
      },
      "source": [
        "for i in range(epoch):\n",
        "  cost_list = []\n",
        "  acc_list = []\n",
        "  \n",
        "  for step in range(int(len(X_train) / batch_size)):\n",
        "    shuffle(idx_list)\n",
        "    # x is from keras output\n",
        "    _, cost, acc = sess.run([optimizer, loss, accuracy], feed_dict={x: X_train[idx_list[:batch_size]], \n",
        "                                                     y: y_train[idx_list[:batch_size]]})\n",
        "    cost_list.append(cost)\n",
        "    acc_list.append(acc)\n",
        "    \n",
        "  print('epoch {} - loss: {:.4f}, acc: {:.4f}'.format(i, np.average(cost_list), np.average(acc_list)))"
      ],
      "execution_count": 7,
      "outputs": [
        {
          "output_type": "stream",
          "text": [
            "epoch 0 - loss: 1.6022, acc: 0.8891\n",
            "epoch 1 - loss: 0.2399, acc: 0.9556\n",
            "epoch 2 - loss: 0.1561, acc: 0.9681\n",
            "epoch 3 - loss: 0.1306, acc: 0.9728\n",
            "epoch 4 - loss: 0.1162, acc: 0.9747\n"
          ],
          "name": "stdout"
        }
      ]
    },
    {
      "cell_type": "code",
      "metadata": {
        "id": "iDpH3lGoMBT0",
        "colab_type": "code",
        "outputId": "51115722-8aff-442b-d680-6c12be967c89",
        "colab": {
          "base_uri": "https://localhost:8080/",
          "height": 35
        }
      },
      "source": [
        "sess.run(accuracy, feed_dict={x: X_test, y: y_test})"
      ],
      "execution_count": 8,
      "outputs": [
        {
          "output_type": "execute_result",
          "data": {
            "text/plain": [
              "0.9637"
            ]
          },
          "metadata": {
            "tags": []
          },
          "execution_count": 8
        }
      ]
    }
  ]
}